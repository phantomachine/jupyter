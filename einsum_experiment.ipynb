{
 "cells": [
  {
   "cell_type": "markdown",
   "metadata": {},
   "source": [
    "# An Idiot Abroad in the Land of Tensor Algebra\n",
    "\n",
    "by [MachinaFantasma](https://github.com/phantomachine)\n",
    "\n",
    "As part of a model estimation problem (by the Method of Simulated Moments), I encountered a need to efficiently compute and store large 2D Numpy array multiplications, where each 2D array is a slice in a 3D array. One loop-free but crude way to do this is to create a large sparse block-diagonal matrix and do the multiplications. But I wanted more elegance from a Pythonista's point of view, but I also wanted speed, as I have to execute the same tasks many times over. Maybe we can do a low-level iterator within a Python list and then Numpy-array the resulting list or array products? Or, maybe we can use tensor algebra and calculus via Numpy and exploit it's optimized linear-algebra (BLAS/MKL) backend? Is there more speed gain, at the cost of high-level Pythonic elegance, from jitting loops using Numba?\n",
    "\n",
    "In this notebook, I'll explore if there is any speed gain from doing the same task using Numba with its JIT compilation capabilities versus a more Numpy way of doing things.\n",
    "\n",
    "\n",
    "\n",
    "## Problem Statement\n",
    "\n",
    "Suppose I want to multiply elements of two 3D arrays $A :=: [A_{i,j,k}]$ and $B:=: [B_{i,k,l}]$, along the $i$ dimension, i.e., for each fixed index $i = 0, ..., I-1$, multiply $A_{i}B_{i}$, where $A_{i}$ is of size $(J \\times K)$ and $B_{i}$ is of size $(K \\times L)$. "
   ]
  },
  {
   "cell_type": "code",
   "execution_count": 1,
   "metadata": {},
   "outputs": [],
   "source": [
    "import numpy as np\n",
    "from numba import vectorize, njit, jit, float64\n",
    "import time\n",
    "import itertools\n",
    "import matplotlib.pyplot as plt"
   ]
  },
  {
   "cell_type": "markdown",
   "metadata": {},
   "source": [
    "## Method 1: Numpy and Einstein Summation\n",
    "\n",
    "We can do this using the rather obscure Numpy ```einsum()``` function, which stands for Einstein Summation. I got the hang of this thanks to this [blog post by Olexa Bilaniuk](https://obilaniu6266h16.wordpress.com/2016/02/04/einstein-summation-in-numpy/)."
   ]
  },
  {
   "cell_type": "code",
   "execution_count": 2,
   "metadata": {},
   "outputs": [],
   "source": [
    "# Create 3d arrays: I slices of (J x K) 2D arrays\n",
    "\n",
    "def generate_arrays(I,J,K):\n",
    "    size_i, size_j, size_k = I, J, K\n",
    "    size = size_i*size_j*size_k\n",
    "    A = np.arange(size).reshape(size_i, size_j, size_k)\n",
    "\n",
    "    # Do this: b = np.arange(24).reshape(4, 2, 3)\n",
    "    B = A.transpose((0,2,1))\n",
    "    size_l = B.shape[2]\n",
    "    \n",
    "    # Declare explicit array types\n",
    "    A = A.astype(\"float64\")\n",
    "    B = B.astype(\"float64\")\n",
    "\n",
    "    # Pre-allocate results array\n",
    "    C = np.empty((size_i,size_j,size_l))\n",
    "    C = C.astype(\"float64\")\n",
    "    \n",
    "    return A, B, C"
   ]
  },
  {
   "cell_type": "markdown",
   "metadata": {
    "collapsed": true
   },
   "source": [
    "Matrix multiplications for fixed i slices using Numpy will be done below as\n",
    "\n",
    "```C = np.einsum('ijk,ikl->ijl', A, B)```"
   ]
  },
  {
   "cell_type": "markdown",
   "metadata": {},
   "source": [
    "## Method 2: Python list iteration and Numpy"
   ]
  },
  {
   "cell_type": "code",
   "execution_count": 3,
   "metadata": {
    "collapsed": true
   },
   "outputs": [],
   "source": [
    "def einsum_ijk_pylist(A, B, C=[]):\n",
    "    C = [ A[i].dot(B[i]) for i in range(len(A)) ]\n",
    "    C = np.asarray(C)\n",
    "    return C"
   ]
  },
  {
   "cell_type": "markdown",
   "metadata": {},
   "source": [
    "## Method 3: Numba ```@njit```"
   ]
  },
  {
   "cell_type": "markdown",
   "metadata": {},
   "source": [
    "This version uses ```@njit``` which is equivalent to setting ```@jit(nopython=True)```:"
   ]
  },
  {
   "cell_type": "code",
   "execution_count": 4,
   "metadata": {},
   "outputs": [],
   "source": [
    "@njit\n",
    "def einsum_ijk_njit(A, B, C):\n",
    "    for i in range(len(A)):\n",
    "        C[i] = np.dot(A[i], B[i])\n",
    "    return C"
   ]
  },
  {
   "cell_type": "markdown",
   "metadata": {},
   "source": [
    "## Horse Race\n",
    "\n"
   ]
  },
  {
   "cell_type": "markdown",
   "metadata": {},
   "source": [
    "Horse race experiment settings:"
   ]
  },
  {
   "cell_type": "code",
   "execution_count": 5,
   "metadata": {},
   "outputs": [],
   "source": [
    "# Methods\n",
    "keys = [\"Numpy\", \"Python-Numpy\", \"Numba\"]\n",
    "\n",
    "# Size experiments i dimension\n",
    "I_list = [50000, 75000, 100000, 150000, 200000]\n",
    "\n",
    "# Fix (j,k) dimensions\n",
    "J = 3\n",
    "K = 200"
   ]
  },
  {
   "cell_type": "markdown",
   "metadata": {},
   "source": [
    "Define case function:"
   ]
  },
  {
   "cell_type": "code",
   "execution_count": 6,
   "metadata": {
    "collapsed": true
   },
   "outputs": [],
   "source": [
    "def einsum_methods(A, B, C, key):\n",
    "    if key == \"Numpy\":\n",
    "        C = np.einsum('ijk,ikl->ijl', A, B)\n",
    "    elif key == \"Python-Numpy\":\n",
    "        C= einsum_ijk_pylist(A, B, C)\n",
    "    elif key == \"Numba\":\n",
    "        C = einsum_ijk_njit(A, B, C)\n",
    "    return C"
   ]
  },
  {
   "cell_type": "code",
   "execution_count": 7,
   "metadata": {},
   "outputs": [
    {
     "name": "stdout",
     "output_type": "stream",
     "text": [
      "Uno momento por favor ...\n",
      "\tExperiment Numpy, size 50000 ...\n",
      "\tExperiment Numpy, size 75000 ...\n",
      "\tExperiment Numpy, size 100000 ...\n",
      "\tExperiment Numpy, size 150000 ...\n",
      "\tExperiment Numpy, size 200000 ...\n",
      "\tExperiment Python-Numpy, size 50000 ...\n",
      "\tExperiment Python-Numpy, size 75000 ...\n",
      "\tExperiment Python-Numpy, size 100000 ...\n",
      "\tExperiment Python-Numpy, size 150000 ...\n",
      "\tExperiment Python-Numpy, size 200000 ...\n",
      "\tExperiment Numba, size 50000 ...\n",
      "\tExperiment Numba, size 75000 ...\n",
      "\tExperiment Numba, size 100000 ...\n",
      "\tExperiment Numba, size 150000 ...\n",
      "\tExperiment Numba, size 200000 ...\n"
     ]
    }
   ],
   "source": [
    "# Method 0: No-loop using einsum()\n",
    "\n",
    "results = []\n",
    "\n",
    "print(\"Uno momento por favor ...\")\n",
    "for idx_key, key in enumerate(keys):\n",
    "    stopwatch = []\n",
    "    for idx_size, I in enumerate(I_list):\n",
    "        print(\"\\tExperiment %s, size %i ...\" %(key, I))\n",
    "        A, B, C = generate_arrays(I,J,K)\n",
    "        tic = time.time()\n",
    "        C = einsum_methods(A, B, C, key)\n",
    "        toc = time.time()\n",
    "        stopwatch.append(toc - tic)\n",
    "    # Add\n",
    "    results.append(stopwatch)\n",
    "    \n",
    "# Pack into dictionary\n",
    "experiments = dict(zip(keys, results))\n",
    "experiments.update({\"size\" : I_list})"
   ]
  },
  {
   "cell_type": "code",
   "execution_count": 8,
   "metadata": {
    "collapsed": true
   },
   "outputs": [],
   "source": [
    "%matplotlib inline"
   ]
  },
  {
   "cell_type": "code",
   "execution_count": 9,
   "metadata": {},
   "outputs": [
    {
     "data": {
      "image/png": "[encoded data removed]",
      "text/plain": [
       "<matplotlib.figure.Figure at 0x7f8104e05390>"
      ]
     },
     "metadata": {},
     "output_type": "display_data"
    }
   ],
   "source": [
    "markers = itertools.cycle(('o', '+', 'x', 'd', 's')) \n",
    "\n",
    "for idx_key, key in enumerate(keys):\n",
    "    x = experiments[\"size\"]\n",
    "    y = experiments[key]\n",
    "    plt.plot(x, y, marker = next(markers), label=key)\n",
    "plt.ylabel(\"Time Taken (s)\")\n",
    "plt.xlabel(\"Size\")\n",
    "plt.legend()\n",
    "plt.show()"
   ]
  },
  {
   "cell_type": "code",
   "execution_count": 10,
   "metadata": {},
   "outputs": [
    {
     "data": {
      "image/png": "[encoded data removed]",
      "text/plain": [
       "<matplotlib.figure.Figure at 0x7f8104e05cf8>"
      ]
     },
     "metadata": {},
     "output_type": "display_data"
    }
   ],
   "source": [
    "for idx_key, key in enumerate(keys):\n",
    "    x = experiments[\"size\"]\n",
    "    y = np.asarray(experiments[\"Numpy\"] / np.asarray(experiments[key]))\n",
    "    plt.plot(x, y, marker = next(markers), label=key)\n",
    "plt.ylabel(\"Speedup Factor\")\n",
    "plt.xlabel(\"Size\")\n",
    "plt.legend()\n",
    "plt.show()"
   ]
  },
  {
   "cell_type": "code",
   "execution_count": null,
   "metadata": {
    "collapsed": true
   },
   "outputs": [],
   "source": []
  }
 ],
 "metadata": {
  "kernelspec": {
   "display_name": "Python 3",
   "language": "python",
   "name": "python3"
  },
  "language_info": {
   "codemirror_mode": {
    "name": "ipython",
    "version": 3
   },
   "file_extension": ".py",
   "mimetype": "text/x-python",
   "name": "python",
   "nbconvert_exporter": "python",
   "pygments_lexer": "ipython3",
   "version": "3.6.2"
  }
 },
 "nbformat": 4,
 "nbformat_minor": 2
}
